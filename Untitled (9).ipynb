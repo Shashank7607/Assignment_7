{
 "cells": [
  {
   "cell_type": "code",
   "execution_count": 3,
   "id": "81f60eb2-c92e-4184-a3fa-340165591e86",
   "metadata": {},
   "outputs": [],
   "source": [
    "###Assignment 1"
   ]
  },
  {
   "cell_type": "code",
   "execution_count": 4,
   "id": "1dfc769e-b846-4c4a-8075-015d7d90a714",
   "metadata": {},
   "outputs": [],
   "source": [
    "import re\n",
    "\n",
    "def check_password(password):\n",
    "    # Check if the length of the password is 10 characters long\n",
    "    if len(password) != 10:\n",
    "        return \"Invalid Password\"\n",
    "    \n",
    "    # Check if the password contains at least two uppercase letters and at least two lowercase letters\n",
    "    if not re.search(r'[A-Z].*[A-Z]', password) or not re.search(r'[a-z].*[a-z]', password):\n",
    "        return \"Invalid Password\"\n",
    "    \n",
    "    # Check if the password contains at least a number and three special characters\n",
    "    if not re.search(r'\\d', password) or not re.findall(r'[!@#$%^&*(),.?\":{}|<>]', password):\n",
    "        return \"Invalid Password\"\n",
    "    \n",
    "    # If all conditions are satisfied, return \"Valid Password\"\n",
    "    return \"Valid Password\"\n"
   ]
  },
  {
   "cell_type": "code",
   "execution_count": 5,
   "id": "6e757946-6efd-4036-8cc1-3dd6f2fe5a94",
   "metadata": {},
   "outputs": [],
   "source": [
    "###Assignment 2"
   ]
  },
  {
   "cell_type": "code",
   "execution_count": 6,
   "id": "a42605f1-b1df-4d29-b79f-e80e10c41f9d",
   "metadata": {},
   "outputs": [],
   "source": [
    "#1 Check if the string starts with a particular letter:"
   ]
  },
  {
   "cell_type": "code",
   "execution_count": 7,
   "id": "9151f400-19eb-4c93-b058-ac0969fd9c04",
   "metadata": {},
   "outputs": [
    {
     "name": "stdout",
     "output_type": "stream",
     "text": [
      "String starts with H\n",
      "[True, False]\n"
     ]
    }
   ],
   "source": [
    "# using string method startswith()\n",
    "string = \"Hello World\"\n",
    "if string.startswith(\"H\"):\n",
    "    print(\"String starts with H\")\n",
    "else:\n",
    "    print(\"String doesn't start with H\")\n",
    "    \n",
    "# using lambda function and list comprehension\n",
    "string = \"Hello World\"\n",
    "starts_with_H = lambda x: True if x.startswith(\"H\") else False\n",
    "result = [starts_with_H(word) for word in string.split()]\n",
    "print(result)\n"
   ]
  },
  {
   "cell_type": "code",
   "execution_count": 8,
   "id": "8644a739-1518-4eda-9fc7-3885e5d91028",
   "metadata": {},
   "outputs": [],
   "source": [
    "#2Check if the string is numeric:"
   ]
  },
  {
   "cell_type": "code",
   "execution_count": 9,
   "id": "77fdd42e-7c89-4b23-993f-af77a5e0f3a3",
   "metadata": {},
   "outputs": [
    {
     "name": "stdout",
     "output_type": "stream",
     "text": [
      "String is numeric\n",
      "[True, True, True, True]\n"
     ]
    }
   ],
   "source": [
    "# using string method isnumeric()\n",
    "string = \"1234\"\n",
    "if string.isnumeric():\n",
    "    print(\"String is numeric\")\n",
    "else:\n",
    "    print(\"String is not numeric\")\n",
    "    \n",
    "# using lambda function and list comprehension\n",
    "string = \"1234\"\n",
    "is_numeric = lambda x: True if x.isnumeric() else False\n",
    "result = [is_numeric(char) for char in string]\n",
    "print(result)\n"
   ]
  },
  {
   "cell_type": "code",
   "execution_count": 10,
   "id": "52aa9fd0-49da-42dc-bb4a-24f178d35303",
   "metadata": {},
   "outputs": [],
   "source": [
    "#3 Sort a list of tuples having fruit names and their quantity:"
   ]
  },
  {
   "cell_type": "code",
   "execution_count": 11,
   "id": "09fc9fcf-c9d6-4c55-8e6b-7ce6f5aa03fb",
   "metadata": {},
   "outputs": [
    {
     "name": "stdout",
     "output_type": "stream",
     "text": [
      "[('orange', 80), ('mango', 99), ('grapes', 1000)]\n"
     ]
    }
   ],
   "source": [
    "fruits = [(\"mango\", 99), (\"orange\", 80), (\"grapes\", 1000)]\n",
    "# sorting by quantity\n",
    "sorted_fruits = sorted(fruits, key=lambda x: x[1])\n",
    "print(sorted_fruits)\n"
   ]
  },
  {
   "cell_type": "code",
   "execution_count": 12,
   "id": "b96c945f-9fdc-4ac7-8597-97b4e007a13c",
   "metadata": {},
   "outputs": [],
   "source": [
    "#4 Find the squares of numbers from 1 to 10:"
   ]
  },
  {
   "cell_type": "code",
   "execution_count": 13,
   "id": "76de22ab-0120-4086-9967-327881470100",
   "metadata": {},
   "outputs": [
    {
     "name": "stdout",
     "output_type": "stream",
     "text": [
      "[1, 4, 9, 16, 25, 36, 49, 64, 81, 100]\n",
      "[1, 4, 9, 16, 25, 36, 49, 64, 81, 100]\n"
     ]
    }
   ],
   "source": [
    "# using list comprehension\n",
    "squares = [x**2 for x in range(1, 11)]\n",
    "print(squares)\n",
    "\n",
    "# using lambda function and map function\n",
    "squares = list(map(lambda x: x**2, range(1, 11)))\n",
    "print(squares)\n"
   ]
  },
  {
   "cell_type": "code",
   "execution_count": 14,
   "id": "30e55bc4-0103-4f80-b683-cba1bb9a8851",
   "metadata": {},
   "outputs": [],
   "source": [
    "#5 Find the cube root of numbers from 1 to 10:"
   ]
  },
  {
   "cell_type": "code",
   "execution_count": 15,
   "id": "01663cde-fa54-4d98-84b5-4e00a4671538",
   "metadata": {},
   "outputs": [
    {
     "name": "stdout",
     "output_type": "stream",
     "text": [
      "[1.0, 1.2599210498948732, 1.4422495703074083, 1.5874010519681994, 1.7099759466766968, 1.8171205928321397, 1.912931182772389, 2.0, 2.080083823051904, 2.154434690031884]\n",
      "[1.0, 1.2599210498948732, 1.4422495703074083, 1.5874010519681994, 1.7099759466766968, 1.8171205928321397, 1.912931182772389, 2.0, 2.080083823051904, 2.154434690031884]\n"
     ]
    }
   ],
   "source": [
    "# using list comprehension\n",
    "import math\n",
    "cube_roots = [math.pow(x, 1/3) for x in range(1, 11)]\n",
    "print(cube_roots)\n",
    "\n",
    "# using lambda function and map function\n",
    "cube_roots = list(map(lambda x: math.pow(x, 1/3), range(1, 11)))\n",
    "print(cube_roots)\n"
   ]
  },
  {
   "cell_type": "code",
   "execution_count": 16,
   "id": "29027206-673f-4ee9-a817-cdfc96bd1ce4",
   "metadata": {},
   "outputs": [],
   "source": [
    "#6 Check if a given number is even"
   ]
  },
  {
   "cell_type": "code",
   "execution_count": 17,
   "id": "54e3c783-7be4-4014-90b1-c42ca9bad90d",
   "metadata": {},
   "outputs": [
    {
     "name": "stdout",
     "output_type": "stream",
     "text": [
      "Number is even\n",
      "True\n"
     ]
    }
   ],
   "source": [
    "# using modulo operator\n",
    "number = 10\n",
    "if number % 2 == 0:\n",
    "    print(\"Number is even\")\n",
    "else:\n",
    "    print(\"Number is odd\")\n",
    "\n",
    "# using lambda function\n",
    "is_even = lambda x: True if x % 2 == 0 else False\n",
    "print(is_even(10))\n"
   ]
  },
  {
   "cell_type": "code",
   "execution_count": 18,
   "id": "6de31a14-ec86-4a01-ba20-9005b3d8a523",
   "metadata": {},
   "outputs": [],
   "source": [
    "#7 Filter odd numbers from the given list [1, 2, 3, 4, 5, 6, 7, 8, 9, 10]:"
   ]
  },
  {
   "cell_type": "code",
   "execution_count": 19,
   "id": "3a5af97f-029a-4994-896d-73e367ea3a68",
   "metadata": {},
   "outputs": [
    {
     "name": "stdout",
     "output_type": "stream",
     "text": [
      "[1, 3, 5, 7, 9]\n",
      "[1, 3, 5, 7, 9]\n"
     ]
    }
   ],
   "source": [
    "# using filter function\n",
    "numbers = [1, 2, 3, 4, 5, 6, 7, 8, 9, 10]\n",
    "odd_numbers = list(filter(lambda x: x % 2 != 0, numbers))\n",
    "print(odd_numbers)\n",
    "\n",
    "# using list comprehension\n",
    "numbers = [1, 2, 3, 4, 5, 6, 7, 8, 9, 10]\n",
    "odd_numbers = [x for x in numbers if x % 2 != 0]\n",
    "print(odd_numbers)\n"
   ]
  },
  {
   "cell_type": "code",
   "execution_count": null,
   "id": "1c1d32ed-344b-4fb8-ae72-7bcca91224f0",
   "metadata": {},
   "outputs": [],
   "source": []
  }
 ],
 "metadata": {
  "kernelspec": {
   "display_name": "Python 3 (ipykernel)",
   "language": "python",
   "name": "python3"
  },
  "language_info": {
   "codemirror_mode": {
    "name": "ipython",
    "version": 3
   },
   "file_extension": ".py",
   "mimetype": "text/x-python",
   "name": "python",
   "nbconvert_exporter": "python",
   "pygments_lexer": "ipython3",
   "version": "3.10.8"
  }
 },
 "nbformat": 4,
 "nbformat_minor": 5
}
